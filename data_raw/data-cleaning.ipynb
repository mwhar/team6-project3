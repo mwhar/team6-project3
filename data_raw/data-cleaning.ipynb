{
 "cells": [
  {
   "cell_type": "code",
   "execution_count": 2,
   "source": [
    "import pandas as pd"
   ],
   "outputs": [],
   "metadata": {}
  },
  {
   "cell_type": "code",
   "execution_count": 22,
   "source": [
    "# median household income by state to df\r\n",
    "df = pd.read_csv('Per capita personal consumption expenditures (PCE) by state.csv')\r\n",
    "header = df.iloc[3]\r\n",
    "pce_df = df[4:].copy()\r\n",
    "pce_df.columns = header\r\n",
    "pce_df.set_index(['GeoName','Description'], inplace=True)\r\n",
    "pce_df.drop(columns=['GeoFips','LineCode'], inplace=True)\r\n",
    "pce_df.head()\r\n",
    "pce_transform_df = pce_df.stack().copy()\r\n",
    "pce_transform_df.to_csv(\"expenses.csv\")\r\n",
    "# med_income_transposed.index.name=\"state\"\r\n",
    "# med_income_transposed\r\n"
   ],
   "outputs": [],
   "metadata": {}
  },
  {
   "cell_type": "code",
   "execution_count": null,
   "source": [],
   "outputs": [],
   "metadata": {}
  },
  {
   "cell_type": "code",
   "execution_count": null,
   "source": [
    "med_income_transposed.to_csv('wages.csv')"
   ],
   "outputs": [],
   "metadata": {}
  }
 ],
 "metadata": {
  "kernelspec": {
   "name": "python3",
   "display_name": "Python 3.6.13 64-bit ('PythonData': conda)"
  },
  "language_info": {
   "codemirror_mode": {
    "name": "ipython",
    "version": 3
   },
   "file_extension": ".py",
   "mimetype": "text/x-python",
   "name": "python",
   "nbconvert_exporter": "python",
   "pygments_lexer": "ipython3",
   "version": "3.6.13"
  },
  "interpreter": {
   "hash": "b3d170011c39922df11dfe6356c1e8bf7818e6e795fb3a7489da71072c7e5fb6"
  }
 },
 "nbformat": 4,
 "nbformat_minor": 5
}