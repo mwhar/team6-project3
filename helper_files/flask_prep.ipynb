{
 "cells": [
  {
   "cell_type": "code",
   "execution_count": 32,
   "source": [
    "import pandas as pd\r\n",
    "# Python SQL toolkit and Object Relational Mapper\r\n",
    "import sqlite3\r\n",
    "import sqlalchemy\r\n",
    "import json\r\n",
    "from sqlalchemy.ext.automap import automap_base\r\n",
    "from sqlalchemy.ext.declarative import declarative_base\r\n",
    "from sqlalchemy.orm import Session, registry\r\n",
    "from sqlalchemy import create_engine, inspect, func, Table, MetaData"
   ],
   "outputs": [],
   "metadata": {}
  },
  {
   "cell_type": "code",
   "execution_count": 16,
   "source": [
    "# create engine to min_wage.db\r\n",
    "engine = create_engine(r'sqlite:///../min_wage.sqlite')"
   ],
   "outputs": [],
   "metadata": {}
  },
  {
   "cell_type": "code",
   "execution_count": 17,
   "source": [
    "# reflect the tables\r\n",
    "Base = automap_base()\r\n",
    "Base.prepare(engine, reflect=True)\r\n",
    "Pstates = Base.classes.par_states\r\n",
    "PYears =Base.classes.par_years\r\n",
    "Ppce =Base.classes.par_pce\r\n",
    "\r\n",
    "Wages = Base.classes.wages\r\n",
    "Pce =Base.classes.pce\r\n",
    "Rpp = Base.classes.rpp\r\n"
   ],
   "outputs": [],
   "metadata": {}
  },
  {
   "cell_type": "code",
   "execution_count": 20,
   "source": [
    "session = Session(engine)\r\n",
    "q = session.query(Wages.year,Wages.state_name,Wages.min_wage_eff)\r\n",
    "df = pd.DataFrame(q)\r\n",
    "session.close()\r\n",
    "Base.classes.keys()"
   ],
   "outputs": [
    {
     "output_type": "execute_result",
     "data": {
      "text/plain": [
       "['par_pce', 'par_states', 'par_years', 'pce', 'rpp', 'wages']"
      ]
     },
     "metadata": {},
     "execution_count": 20
    }
   ],
   "metadata": {}
  },
  {
   "cell_type": "code",
   "execution_count": 29,
   "source": [
    "\r\n",
    "session = Session(engine)\r\n",
    "for row in session.query(Wages.year, Wages.state_name, Wages.min_wage_eff).limit(2).all():\r\n",
    "    print (row)\r\n",
    "session.close()"
   ],
   "outputs": [
    {
     "output_type": "stream",
     "name": "stdout",
     "text": [
      "(1990, 'Alabama', 6.63)\n",
      "(1990, 'Alaska', 7.62)\n"
     ]
    }
   ],
   "metadata": {}
  },
  {
   "cell_type": "code",
   "execution_count": null,
   "source": [
    "session = Session(engine)\r\n",
    "row= session.query(Wages.min_wage_eff, Wages.state_name, Wages.year).limit(10).all()\r\n",
    "rs =json.dumps(dict(row))\r\n",
    "rs\r\n",
    "session.close()\r\n"
   ],
   "outputs": [],
   "metadata": {}
  },
  {
   "cell_type": "markdown",
   "source": [
    "# Reflect Tables into SQLAlchemy ORM"
   ],
   "metadata": {}
  },
  {
   "cell_type": "code",
   "execution_count": null,
   "source": [
    "\r\n",
    "# reflect the tables\r\n",
    "meta = MetaData()\r\n",
    "meta.reflect(engine)\r\n",
    "\r\n",
    "# Base = automap_base(metadata=meta)\r\n",
    "\r\n",
    "# Base.prepare()\r\n",
    "inspector = inspect(engine)\r\n",
    "\r\n",
    "print(inspector.get_table_names())\r\n",
    "\r\n",
    "mapper_registry = registry()\r\n",
    "# Save references to each table\r\n",
    "wages_tbl = Table('wages', meta, autoload=engine)\r\n",
    "pce_tbl = Table('pce', meta, autoload=engine)\r\n",
    "rpp_tbl = Table('rpp', meta, autoload=engine)\r\n",
    "states_tbl = Table('par_states', meta, autoload=engine)\r\n",
    "year_tbl = Table('par_years', meta, autoload=engine)\r\n",
    "\r\n",
    "class Wages:\r\n",
    "    pass\r\n",
    "mapper_registry.map_imperatively(Wages, wages_tbl)\r\n"
   ],
   "outputs": [],
   "metadata": {}
  },
  {
   "cell_type": "code",
   "execution_count": 3,
   "source": [
    "# Create session (link) from Python to the DB\r\n",
    "session = Session(bind=engine)"
   ],
   "outputs": [],
   "metadata": {}
  },
  {
   "cell_type": "code",
   "execution_count": 5,
   "source": [
    "pce_data = session.query(pce_tbl.c.Year,pce_tbl.c.state_name,pce_tbl.c.pce_category,pce_tbl.c.pce_value)\r\n",
    "df = pd.DataFrame(pce_data)\r\n",
    "df"
   ],
   "outputs": [
    {
     "output_type": "execute_result",
     "data": {
      "text/html": [
       "<div>\n",
       "<style scoped>\n",
       "    .dataframe tbody tr th:only-of-type {\n",
       "        vertical-align: middle;\n",
       "    }\n",
       "\n",
       "    .dataframe tbody tr th {\n",
       "        vertical-align: top;\n",
       "    }\n",
       "\n",
       "    .dataframe thead th {\n",
       "        text-align: right;\n",
       "    }\n",
       "</style>\n",
       "<table border=\"1\" class=\"dataframe\">\n",
       "  <thead>\n",
       "    <tr style=\"text-align: right;\">\n",
       "      <th></th>\n",
       "      <th>0</th>\n",
       "      <th>1</th>\n",
       "      <th>2</th>\n",
       "      <th>3</th>\n",
       "    </tr>\n",
       "  </thead>\n",
       "  <tbody>\n",
       "    <tr>\n",
       "      <th>0</th>\n",
       "      <td>1997</td>\n",
       "      <td>United States</td>\n",
       "      <td>Clothing and footwear</td>\n",
       "      <td>908</td>\n",
       "    </tr>\n",
       "    <tr>\n",
       "      <th>1</th>\n",
       "      <td>1997</td>\n",
       "      <td>United States</td>\n",
       "      <td>Gasoline and other energy goods</td>\n",
       "      <td>542</td>\n",
       "    </tr>\n",
       "    <tr>\n",
       "      <th>2</th>\n",
       "      <td>1997</td>\n",
       "      <td>United States</td>\n",
       "      <td>Household consumption expenditures (for services)</td>\n",
       "      <td>12561</td>\n",
       "    </tr>\n",
       "    <tr>\n",
       "      <th>3</th>\n",
       "      <td>1997</td>\n",
       "      <td>United States</td>\n",
       "      <td>Housing and utilities</td>\n",
       "      <td>3704</td>\n",
       "    </tr>\n",
       "    <tr>\n",
       "      <th>4</th>\n",
       "      <td>1997</td>\n",
       "      <td>United States</td>\n",
       "      <td>Health care</td>\n",
       "      <td>2901</td>\n",
       "    </tr>\n",
       "    <tr>\n",
       "      <th>...</th>\n",
       "      <td>...</td>\n",
       "      <td>...</td>\n",
       "      <td>...</td>\n",
       "      <td>...</td>\n",
       "    </tr>\n",
       "    <tr>\n",
       "      <th>5975</th>\n",
       "      <td>2019</td>\n",
       "      <td>Wyoming</td>\n",
       "      <td>Clothing and footwear</td>\n",
       "      <td>878</td>\n",
       "    </tr>\n",
       "    <tr>\n",
       "      <th>5976</th>\n",
       "      <td>2019</td>\n",
       "      <td>Wyoming</td>\n",
       "      <td>Gasoline and other energy goods</td>\n",
       "      <td>2352</td>\n",
       "    </tr>\n",
       "    <tr>\n",
       "      <th>5977</th>\n",
       "      <td>2019</td>\n",
       "      <td>Wyoming</td>\n",
       "      <td>Household consumption expenditures (for services)</td>\n",
       "      <td>29090</td>\n",
       "    </tr>\n",
       "    <tr>\n",
       "      <th>5978</th>\n",
       "      <td>2019</td>\n",
       "      <td>Wyoming</td>\n",
       "      <td>Housing and utilities</td>\n",
       "      <td>7877</td>\n",
       "    </tr>\n",
       "    <tr>\n",
       "      <th>5979</th>\n",
       "      <td>2019</td>\n",
       "      <td>Wyoming</td>\n",
       "      <td>Health care</td>\n",
       "      <td>7336</td>\n",
       "    </tr>\n",
       "  </tbody>\n",
       "</table>\n",
       "<p>5980 rows × 4 columns</p>\n",
       "</div>"
      ],
      "text/plain": [
       "         0              1                                                  2  \\\n",
       "0     1997  United States                              Clothing and footwear   \n",
       "1     1997  United States                    Gasoline and other energy goods   \n",
       "2     1997  United States  Household consumption expenditures (for services)   \n",
       "3     1997  United States                              Housing and utilities   \n",
       "4     1997  United States                                        Health care   \n",
       "...    ...            ...                                                ...   \n",
       "5975  2019        Wyoming                              Clothing and footwear   \n",
       "5976  2019        Wyoming                    Gasoline and other energy goods   \n",
       "5977  2019        Wyoming  Household consumption expenditures (for services)   \n",
       "5978  2019        Wyoming                              Housing and utilities   \n",
       "5979  2019        Wyoming                                        Health care   \n",
       "\n",
       "          3  \n",
       "0       908  \n",
       "1       542  \n",
       "2     12561  \n",
       "3      3704  \n",
       "4      2901  \n",
       "...     ...  \n",
       "5975    878  \n",
       "5976   2352  \n",
       "5977  29090  \n",
       "5978   7877  \n",
       "5979   7336  \n",
       "\n",
       "[5980 rows x 4 columns]"
      ]
     },
     "metadata": {},
     "execution_count": 5
    }
   ],
   "metadata": {}
  },
  {
   "cell_type": "markdown",
   "source": [
    "# Close Session"
   ],
   "metadata": {}
  },
  {
   "cell_type": "code",
   "execution_count": 34,
   "source": [
    "# Close Session\r\n",
    "session.close()"
   ],
   "outputs": [],
   "metadata": {}
  },
  {
   "cell_type": "code",
   "execution_count": null,
   "source": [],
   "outputs": [],
   "metadata": {}
  }
 ],
 "metadata": {
  "orig_nbformat": 4,
  "language_info": {
   "name": "python",
   "version": "3.6.13",
   "mimetype": "text/x-python",
   "codemirror_mode": {
    "name": "ipython",
    "version": 3
   },
   "pygments_lexer": "ipython3",
   "nbconvert_exporter": "python",
   "file_extension": ".py"
  },
  "kernelspec": {
   "name": "python3",
   "display_name": "Python 3.6.13 64-bit ('PythonData': conda)"
  },
  "interpreter": {
   "hash": "b3d170011c39922df11dfe6356c1e8bf7818e6e795fb3a7489da71072c7e5fb6"
  }
 },
 "nbformat": 4,
 "nbformat_minor": 2
}