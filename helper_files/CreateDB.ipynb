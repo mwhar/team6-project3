{
 "cells": [
  {
   "cell_type": "code",
   "execution_count": 1,
   "source": [
    "import pandas as pd\r\n",
    "import sqlite3\r\n",
    "from sqlite3 import Error"
   ],
   "outputs": [],
   "metadata": {}
  },
  {
   "cell_type": "markdown",
   "source": [
    "# Create Database"
   ],
   "metadata": {}
  },
  {
   "cell_type": "code",
   "execution_count": 2,
   "source": [
    "def create_connection(db_file):\r\n",
    "    \"\"\" create a database connection to a SQLite database \"\"\"\r\n",
    "    conn = None;\r\n",
    "    try:\r\n",
    "        conn = sqlite3.connect(db_file)\r\n",
    "        print(sqlite3.version)\r\n",
    "    except Error as e:\r\n",
    "        print(e)\r\n",
    "    finally:\r\n",
    "        if conn:\r\n",
    "            conn.close()\r\n",
    "\r\n",
    "\r\n",
    "if __name__ == '__main__':\r\n",
    "    create_connection(r\"min_wage.sqlite\")"
   ],
   "outputs": [
    {
     "output_type": "stream",
     "name": "stdout",
     "text": [
      "2.6.0\n"
     ]
    }
   ],
   "metadata": {}
  },
  {
   "cell_type": "markdown",
   "source": [
    "# Create Tables"
   ],
   "metadata": {}
  },
  {
   "cell_type": "code",
   "execution_count": 3,
   "source": [
    "def create_connection(db_file):\r\n",
    "    \"\"\" create a database connection to the SQLite database\r\n",
    "        specified by db_file\r\n",
    "    :param db_file: database file\r\n",
    "    :return: Connection object or None\r\n",
    "    \"\"\"\r\n",
    "    conn = None\r\n",
    "    try:\r\n",
    "        conn = sqlite3.connect(db_file)\r\n",
    "        conn.execute('PRAGMA foreign_keys = ON;')\r\n",
    "        return conn\r\n",
    "    except Error as e:\r\n",
    "        print(e)\r\n",
    "\r\n",
    "    return conn\r\n",
    "\r\n",
    "def create_table(conn, create_table_sql):\r\n",
    "    \"\"\" create a table from the create_table_sql statement\r\n",
    "    :param conn: Connection object\r\n",
    "    :param create_table_sql: a CREATE TABLE statement\r\n",
    "    :return:\r\n",
    "    \"\"\"\r\n",
    "    try:\r\n",
    "        c = conn.cursor()\r\n",
    "        c.execute(create_table_sql)\r\n",
    "    except Error as e:\r\n",
    "        print(e)\r\n",
    "\r\n",
    "def main():\r\n",
    "    database = r\"min_wage.sqlite\"\r\n",
    "\r\n",
    "    sql_create_states_table = \"\"\" CREATE TABLE IF NOT EXISTS states (\r\n",
    "        id varchar PRIMARY KEY,\r\n",
    "        state varchar\r\n",
    "        ); \"\"\"\r\n",
    "\r\n",
    "    sql_create_years_table = \"\"\" CREATE TABLE IF NOT EXISTS years (\r\n",
    "        \"id\" varchar PRIMARY KEY,\r\n",
    "        \"year\" int\r\n",
    "        ); \"\"\"\r\n",
    "\r\n",
    "    sql_create_pce_table = \"\"\" CREATE TABLE IF NOT EXISTS pce (\r\n",
    "        \"id\" varchar PRIMARY KEY,\r\n",
    "        \"category\" varchar\r\n",
    "        ); \"\"\"\r\n",
    "\r\n",
    "    sql_create_wages_table = \"\"\" CREATE TABLE IF NOT EXISTS wages (\r\n",
    "        \"year\" int,\r\n",
    "        \"state_name\" varchar,\r\n",
    "        \"min_wage\" float,\r\n",
    "        \"min_wage_eff\" float,\r\n",
    "        \"median_wage\" float,\r\n",
    "        FOREIGN KEY (year) REFERENCES years(year),\r\n",
    "        FOREIGN KEY (state_name) REFERENCES states(state),\r\n",
    "        PRIMARY KEY (\"year\", \"state_name\")\r\n",
    "        ); \"\"\"\r\n",
    "\r\n",
    "    sql_create_states_pces_table = \"\"\"CREATE TABLE IF NOT EXISTS spce (\r\n",
    "        \"year\" int,\r\n",
    "        \"state_name\" varchar,\r\n",
    "        \"pce_cat\" varchar,\r\n",
    "        \"pce_value\" float,\r\n",
    "        FOREIGN KEY (\"year\") REFERENCES years(\"year\"),\r\n",
    "        FOREIGN KEY (\"state_name\") REFERENCES states(\"state\"),\r\n",
    "        FOREIGN KEY (\"pce_cat\") REFERENCES pce(\"category\"),\r\n",
    "        PRIMARY KEY (\"year\", \"state_name\", \"pce_cat\")\r\n",
    "        );\"\"\"\r\n",
    "    sql_create_rpp_table = \"\"\"CREATE TABLE IF NOT EXISTS rpp (\r\n",
    "        \"id\" varchar PRIMARY KEY,\r\n",
    "        \"year\" int NOT NULL,\r\n",
    "        \"state_name\" varchar NOT NULL,\r\n",
    "        \"rpp_value\" float NOT NULL,\r\n",
    "        FOREIGN KEY (\"year\") REFERENCES years(\"year\"),\r\n",
    "        FOREIGN KEY (\"state_name\") REFERENCES states(\"state\")\r\n",
    "        );\"\"\"\r\n",
    "\r\n",
    "    # create a database connection\r\n",
    "    conn = create_connection(database)\r\n",
    "\r\n",
    "    # create tables\r\n",
    "    if conn is not None:\r\n",
    "        # create states table\r\n",
    "        create_table(conn, sql_create_states_table)\r\n",
    "\r\n",
    "        # create years table\r\n",
    "        create_table(conn, sql_create_years_table)\r\n",
    "\r\n",
    "        #  create pce table\r\n",
    "        create_table(conn, sql_create_pce_table)\r\n",
    "\r\n",
    "        # create wages table\r\n",
    "        create_table(conn, sql_create_wages_table)\r\n",
    "\r\n",
    "        # create pce_states table\r\n",
    "        create_table(conn, sql_create_states_pces_table)\r\n",
    "\r\n",
    "        #  create rpp table\r\n",
    "        create_table(conn, sql_create_rpp_table)\r\n",
    "\r\n",
    "    else:\r\n",
    "        print(\"Error! cannot create the database connection.\")\r\n",
    "\r\n",
    "    \r\n",
    "if __name__ == '__main__':\r\n",
    "    main()"
   ],
   "outputs": [],
   "metadata": {}
  },
  {
   "cell_type": "code",
   "execution_count": 4,
   "source": [
    "conn = sqlite3.connect(r\"min_wage.sqlite\")\r\n",
    "conn.execute('PRAGMA foreign_keys = ON;')\r\n",
    "rows = conn.execute('PRAGMA foreign_keys;')\r\n",
    "for r in rows:\r\n",
    "    print (r)"
   ],
   "outputs": [
    {
     "output_type": "stream",
     "name": "stdout",
     "text": [
      "(1,)\n"
     ]
    }
   ],
   "metadata": {}
  },
  {
   "cell_type": "code",
   "execution_count": null,
   "source": [],
   "outputs": [],
   "metadata": {}
  }
 ],
 "metadata": {
  "orig_nbformat": 4,
  "language_info": {
   "name": "python",
   "version": "3.6.13",
   "mimetype": "text/x-python",
   "codemirror_mode": {
    "name": "ipython",
    "version": 3
   },
   "pygments_lexer": "ipython3",
   "nbconvert_exporter": "python",
   "file_extension": ".py"
  },
  "kernelspec": {
   "name": "python3",
   "display_name": "Python 3.6.13 64-bit ('PythonData': conda)"
  },
  "interpreter": {
   "hash": "b3d170011c39922df11dfe6356c1e8bf7818e6e795fb3a7489da71072c7e5fb6"
  }
 },
 "nbformat": 4,
 "nbformat_minor": 2
}