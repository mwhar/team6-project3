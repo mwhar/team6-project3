{
 "cells": [
  {
   "cell_type": "code",
   "execution_count": 17,
   "source": [
    "import pandas as pd\r\n",
    "import sqlite3\r\n",
    "from sqlalchemy import create_engine, inspect, func\r\n",
    "from sqlalchemy import select, text, MetaData, Table, Column, Integer, String, ForeignKey\r\n",
    "from sqlalchemy.orm import Session\r\n",
    "from sqlalchemy.ext.declarative import declarative_base\r\n"
   ],
   "outputs": [],
   "metadata": {}
  },
  {
   "cell_type": "markdown",
   "source": [
    "# Extract"
   ],
   "metadata": {}
  },
  {
   "cell_type": "code",
   "execution_count": 18,
   "source": [
    "years_df = pd.read_csv(\"../data_clean/years.csv\", thousands=',')\r\n",
    "states_df = pd.read_csv(\"../data_clean/states.csv\", thousands=',')\r\n",
    "pce_cats_df = pd.read_csv(\"../data_clean/pce_categories.csv\", thousands=',')\r\n",
    "wages_df = pd.read_csv(\"../data_clean/wages.csv\", thousands=',')\r\n",
    "pce_df = pd.read_csv(\"../data_clean/pce.csv\", thousands=',')\r\n",
    "rpp_df = pd.read_csv(\"../data_clean/rpp.csv\", thousands=',')\r\n"
   ],
   "outputs": [],
   "metadata": {}
  },
  {
   "cell_type": "markdown",
   "source": [
    "# Transform"
   ],
   "metadata": {}
  },
  {
   "cell_type": "code",
   "execution_count": 19,
   "source": [
    "# Remove auto-generated index\r\n",
    "years_df.set_index(\"year\", inplace=True)\r\n",
    "states_df.set_index(\"full_name\", inplace=True)\r\n",
    "pce_cats_df.set_index(\"category\", inplace=True)\r\n",
    "wages_df.set_index(\"year\", inplace=True)\r\n",
    "pce_df.set_index(\"year\", inplace=True)\r\n",
    "rpp_df.set_index(\"year\", inplace=True)\r\n",
    "\r\n",
    "#Rename columns to match database tables\r\n",
    "wages_df.columns = [\"state_name\", \"min_wage\", \"min_wage_eff\", \"median_wage\"]\r\n",
    "pce_df.columns = [\"state_name\", \"pce_cat\", \"pce_value\"]\r\n",
    "rpp_df.columns = [\"state_name\", \"rpp_value\"]\r\n",
    "\r\n",
    "#Remove whitespace from PCE categories\r\n",
    "pce_df['pce_cat'] = pce_df['pce_cat'].str.strip()"
   ],
   "outputs": [],
   "metadata": {}
  },
  {
   "cell_type": "markdown",
   "source": [
    "# Load"
   ],
   "metadata": {}
  },
  {
   "cell_type": "code",
   "execution_count": 20,
   "source": [
    "engine = create_engine(\"sqlite:///../min_wage.sqlite\")"
   ],
   "outputs": [],
   "metadata": {}
  },
  {
   "cell_type": "code",
   "execution_count": null,
   "source": [
    "years_df.to_sql('par_years', con=engine, if_exists='append')\r\n",
    "states_df.to_sql('par_states', con=engine, if_exists='append')\r\n",
    "pce_cats_df.to_sql('par_pce', con=engine, if_exists='append')\r\n",
    "\r\n",
    "wages_df.to_sql('wages', con=engine, if_exists='append')\r\n",
    "pce_df.to_sql('pce', con=engine, if_exists='append')\r\n",
    "rpp_df.to_sql('rpp', con=engine, if_exists='append')"
   ],
   "outputs": [],
   "metadata": {}
  }
 ],
 "metadata": {
  "orig_nbformat": 4,
  "language_info": {
   "name": "python",
   "version": "3.6.13",
   "mimetype": "text/x-python",
   "codemirror_mode": {
    "name": "ipython",
    "version": 3
   },
   "pygments_lexer": "ipython3",
   "nbconvert_exporter": "python",
   "file_extension": ".py"
  },
  "kernelspec": {
   "name": "python3",
   "display_name": "Python 3.6.13 64-bit ('PythonData': conda)"
  },
  "interpreter": {
   "hash": "b3d170011c39922df11dfe6356c1e8bf7818e6e795fb3a7489da71072c7e5fb6"
  }
 },
 "nbformat": 4,
 "nbformat_minor": 2
}