{
 "cells": [
  {
   "cell_type": "code",
   "execution_count": 1,
   "source": [
    "import pandas as pd\r\n",
    "import sqlite3\r\n",
    "from sqlalchemy import create_engine, inspect, func\r\n",
    "from sqlalchemy import select, text, MetaData, Table, Column, Integer, String, ForeignKey\r\n",
    "from sqlalchemy.orm import Session\r\n",
    "from sqlalchemy.ext.declarative import declarative_base\r\n"
   ],
   "outputs": [],
   "metadata": {}
  },
  {
   "cell_type": "markdown",
   "source": [
    "# Extract"
   ],
   "metadata": {}
  },
  {
   "cell_type": "code",
   "execution_count": 6,
   "source": [
    "years_df = pd.read_csv(\"../data_clean/years.csv\", thousands=',')\r\n",
    "states_df = pd.read_csv(\"../data_clean/states.csv\", thousands=',')\r\n",
    "pce_cats_df = pd.read_csv(\"../data_clean/pce_categories.csv\", thousands=',')\r\n",
    "wages_df = pd.read_csv(\"../data_clean/wages.csv\", thousands=',')\r\n",
    "pce_df = pd.read_csv(\"../data_clean/pce.csv\", thousands=',')\r\n",
    "rpp_df = pd.read_csv(\"../data_clean/rpp.csv\", thousands=',')\r\n"
   ],
   "outputs": [
    {
     "output_type": "execute_result",
     "data": {
      "text/html": [
       "<div>\n",
       "<style scoped>\n",
       "    .dataframe tbody tr th:only-of-type {\n",
       "        vertical-align: middle;\n",
       "    }\n",
       "\n",
       "    .dataframe tbody tr th {\n",
       "        vertical-align: top;\n",
       "    }\n",
       "\n",
       "    .dataframe thead th {\n",
       "        text-align: right;\n",
       "    }\n",
       "</style>\n",
       "<table border=\"1\" class=\"dataframe\">\n",
       "  <thead>\n",
       "    <tr style=\"text-align: right;\">\n",
       "      <th></th>\n",
       "      <th>year</th>\n",
       "      <th>State</th>\n",
       "      <th>State Minimum Wage</th>\n",
       "      <th>Effective Minimum Wage</th>\n",
       "      <th>Median Household Income</th>\n",
       "    </tr>\n",
       "  </thead>\n",
       "  <tbody>\n",
       "    <tr>\n",
       "      <th>0</th>\n",
       "      <td>1990</td>\n",
       "      <td>Alabama</td>\n",
       "      <td>0.00</td>\n",
       "      <td>6.63</td>\n",
       "      <td>23357</td>\n",
       "    </tr>\n",
       "    <tr>\n",
       "      <th>1</th>\n",
       "      <td>1990</td>\n",
       "      <td>Alaska</td>\n",
       "      <td>7.62</td>\n",
       "      <td>7.62</td>\n",
       "      <td>39298</td>\n",
       "    </tr>\n",
       "    <tr>\n",
       "      <th>2</th>\n",
       "      <td>1990</td>\n",
       "      <td>Arizona</td>\n",
       "      <td>0.00</td>\n",
       "      <td>6.63</td>\n",
       "      <td>29224</td>\n",
       "    </tr>\n",
       "    <tr>\n",
       "      <th>3</th>\n",
       "      <td>1990</td>\n",
       "      <td>Arkansas</td>\n",
       "      <td>6.43</td>\n",
       "      <td>6.63</td>\n",
       "      <td>22786</td>\n",
       "    </tr>\n",
       "    <tr>\n",
       "      <th>4</th>\n",
       "      <td>1990</td>\n",
       "      <td>California</td>\n",
       "      <td>6.63</td>\n",
       "      <td>6.63</td>\n",
       "      <td>33290</td>\n",
       "    </tr>\n",
       "    <tr>\n",
       "      <th>...</th>\n",
       "      <td>...</td>\n",
       "      <td>...</td>\n",
       "      <td>...</td>\n",
       "      <td>...</td>\n",
       "      <td>...</td>\n",
       "    </tr>\n",
       "    <tr>\n",
       "      <th>1576</th>\n",
       "      <td>2020</td>\n",
       "      <td>Virginia</td>\n",
       "      <td>7.25</td>\n",
       "      <td>7.25</td>\n",
       "      <td>81947</td>\n",
       "    </tr>\n",
       "    <tr>\n",
       "      <th>1577</th>\n",
       "      <td>2020</td>\n",
       "      <td>Washington</td>\n",
       "      <td>13.50</td>\n",
       "      <td>13.50</td>\n",
       "      <td>81083</td>\n",
       "    </tr>\n",
       "    <tr>\n",
       "      <th>1578</th>\n",
       "      <td>2020</td>\n",
       "      <td>West Virginia</td>\n",
       "      <td>8.75</td>\n",
       "      <td>8.75</td>\n",
       "      <td>51615</td>\n",
       "    </tr>\n",
       "    <tr>\n",
       "      <th>1579</th>\n",
       "      <td>2020</td>\n",
       "      <td>Wisconsin</td>\n",
       "      <td>7.25</td>\n",
       "      <td>7.25</td>\n",
       "      <td>67094</td>\n",
       "    </tr>\n",
       "    <tr>\n",
       "      <th>1580</th>\n",
       "      <td>2020</td>\n",
       "      <td>Wyoming</td>\n",
       "      <td>5.15</td>\n",
       "      <td>7.25</td>\n",
       "      <td>65108</td>\n",
       "    </tr>\n",
       "  </tbody>\n",
       "</table>\n",
       "<p>1581 rows × 5 columns</p>\n",
       "</div>"
      ],
      "text/plain": [
       "      year          State  State Minimum Wage  Effective Minimum Wage  \\\n",
       "0     1990        Alabama                0.00                    6.63   \n",
       "1     1990         Alaska                7.62                    7.62   \n",
       "2     1990        Arizona                0.00                    6.63   \n",
       "3     1990       Arkansas                6.43                    6.63   \n",
       "4     1990     California                6.63                    6.63   \n",
       "...    ...            ...                 ...                     ...   \n",
       "1576  2020       Virginia                7.25                    7.25   \n",
       "1577  2020     Washington               13.50                   13.50   \n",
       "1578  2020  West Virginia                8.75                    8.75   \n",
       "1579  2020      Wisconsin                7.25                    7.25   \n",
       "1580  2020        Wyoming                5.15                    7.25   \n",
       "\n",
       "      Median Household Income  \n",
       "0                       23357  \n",
       "1                       39298  \n",
       "2                       29224  \n",
       "3                       22786  \n",
       "4                       33290  \n",
       "...                       ...  \n",
       "1576                    81947  \n",
       "1577                    81083  \n",
       "1578                    51615  \n",
       "1579                    67094  \n",
       "1580                    65108  \n",
       "\n",
       "[1581 rows x 5 columns]"
      ]
     },
     "metadata": {},
     "execution_count": 6
    }
   ],
   "metadata": {}
  },
  {
   "cell_type": "markdown",
   "source": [
    "# Transform"
   ],
   "metadata": {}
  },
  {
   "cell_type": "code",
   "execution_count": 7,
   "source": [
    "# Remove auto-generated index\r\n",
    "years_df.set_index(\"year\", inplace=True)\r\n",
    "states_df.set_index(\"name\", inplace=True)\r\n",
    "pce_cats_df.set_index(\"category\", inplace=True)\r\n",
    "wages_df.set_index(\"year\", inplace=True)\r\n",
    "pce_df.set_index(\"year\", inplace=True)\r\n",
    "rpp_df.set_index(\"year\", inplace=True)\r\n",
    "\r\n",
    "#Rename columns to match database tables\r\n",
    "wages_df.columns = [\"state_name\", \"min_wage\", \"min_wage_eff\", \"median_wage\"]\r\n",
    "pce_df.columns = [\"state_name\", \"pce_category\", \"pce_value\"]\r\n",
    "rpp_df.columns = [\"state_name\", \"rpp_value\"]\r\n",
    "\r\n",
    "#Remove whitespace from PCE categories\r\n",
    "pce_df['pce_category'] = pce_df['pce_category'].str.strip()"
   ],
   "outputs": [],
   "metadata": {}
  },
  {
   "cell_type": "markdown",
   "source": [
    "# Load"
   ],
   "metadata": {}
  },
  {
   "cell_type": "code",
   "execution_count": 12,
   "source": [
    "engine = create_engine(\"sqlite:///../min_wage.sqlite\")"
   ],
   "outputs": [],
   "metadata": {}
  },
  {
   "cell_type": "code",
   "execution_count": 13,
   "source": [
    "years_df.to_sql('par_years', con=engine, if_exists='replace')\r\n",
    "states_df.to_sql('par_states', con=engine, if_exists='replace')\r\n",
    "pce_cats_df.to_sql('par_pce', con=engine, if_exists='replace')\r\n",
    "\r\n",
    "wages_df.to_sql('wages', con=engine, if_exists='replace')\r\n",
    "pce_df.to_sql('pce', con=engine, if_exists='replace')\r\n",
    "rpp_df.to_sql('rpp', con=engine, if_exists='replace')"
   ],
   "outputs": [],
   "metadata": {}
  },
  {
   "cell_type": "code",
   "execution_count": null,
   "source": [],
   "outputs": [],
   "metadata": {}
  }
 ],
 "metadata": {
  "orig_nbformat": 4,
  "language_info": {
   "name": "python",
   "version": "3.6.13",
   "mimetype": "text/x-python",
   "codemirror_mode": {
    "name": "ipython",
    "version": 3
   },
   "pygments_lexer": "ipython3",
   "nbconvert_exporter": "python",
   "file_extension": ".py"
  },
  "kernelspec": {
   "name": "python3",
   "display_name": "Python 3.6.13 64-bit ('PythonData': conda)"
  },
  "interpreter": {
   "hash": "b3d170011c39922df11dfe6356c1e8bf7818e6e795fb3a7489da71072c7e5fb6"
  }
 },
 "nbformat": 4,
 "nbformat_minor": 2
}